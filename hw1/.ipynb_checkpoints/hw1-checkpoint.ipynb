{
 "cells": [
  {
   "cell_type": "markdown",
   "metadata": {},
   "source": [
    "**Общая информация**\n",
    "\n",
    "**Срок сдачи:** 13 марта 2017, 06:00 <br\\>\n",
    "**Штраф за опоздание:** -2 балла после 06:00 13 марта, -4 балла после 06:00 20 марта, -6 баллов после 06:00 27 марта\n",
    "\n",
    "При отправлении ДЗ указывайте фамилию в названии файла\n",
    "Присылать ДЗ необходимо в виде ссылки на свой github репозиторий в slack @alkhamush\n",
    "\n",
    "Необходимо в slack создать таск в приватный чат:\n",
    "/todo Фамилия Имя ссылка на гитхаб @alkhamush\n",
    "Пример:\n",
    "/todo Ксения Стройкова https://github.com/stroykova/spheremailru/stroykova_hw1.ipynb @alkhamush\n",
    "\n",
    "Используйте данный Ipython Notebook при оформлении домашнего задания."
   ]
  },
  {
   "cell_type": "markdown",
   "metadata": {},
   "source": [
    "###### Задание 1 (2 баллов)\n",
    "Реализовать KNN в классе MyKNeighborsClassifier (обязательное условие: точность не ниже sklearn реализации)\n",
    "\n",
    "###### Задание 2 (2 балла)\n",
    "Добиться скорости работы на fit,  predict и predict_proba сравнимой со sklearn 4 балла для iris и mnist\n",
    "Для этого используем numpy\n",
    "\n",
    "###### Задание 3 (2 балла)\n",
    "Для iris найдите такой параметр n_neighbors, при котором выдаётся наилучший score. Нарисуйте график зависимости score от n_neighbors\n",
    "\n",
    "###### Задание 3 (2 балла)\n",
    "Выполнить требования pep8\n",
    "\n",
    "###### Задание 5 (2 балла)\n",
    "Описать для чего нужны следующие библиотеки/классы/функции (список будет ниже)\n"
   ]
  },
  {
   "cell_type": "code",
   "execution_count": null,
   "metadata": {},
   "outputs": [],
   "source": [
    "import numpy as np\n",
    "import matplotlib.pyplot as plt\n",
    "\n",
    "import seaborn as sns\n",
    "from sklearn import datasets\n",
    "from sklearn.base import ClassifierMixin\n",
    "from sklearn.datasets import fetch_mldata\n",
    "from sklearn.neighbors.base import NeighborsBase, KNeighborsMixin, SupervisedIntegerMixin \n",
    "from sklearn.model_selection import train_test_split\n",
    "from sklearn.neighbors import KNeighborsClassifier\n",
    "from collections import Counter"
   ]
  },
  {
   "cell_type": "code",
   "execution_count": null,
   "metadata": {},
   "outputs": [],
   "source": [
    "class MyKNeighborsClassifier(NeighborsBase, KNeighborsMixin,\n",
    "                             SupervisedIntegerMixin, ClassifierMixin):\n",
    "\n",
    "    def __init__(self, n_neighbors):\n",
    "        self.n_neighbors = n_neighbors\n",
    "\n",
    "    def fit(self, X, y):\n",
    "        self.X_tr = X\n",
    "        self.y_tr = y\n",
    "\n",
    "    def predict(self, X):\n",
    "        predictions = np.zeros((X.shape[0]))\n",
    "        best_indices = []\n",
    "        for j, row in enumerate(X):\n",
    "            D = self.X_tr - row\n",
    "            dist = (D**2).sum(axis=1)\n",
    "            best_indices = np.argsort(dist)[0:self.n_neighbors]\n",
    "            avg = self.y_tr[best_indices]\n",
    "            freq = np.zeros((int(self.y_tr.max()+1)))\n",
    "            for i in avg:\n",
    "                freq[int(i)] += 1\n",
    "            predictions[j] = np.argmax(freq)\n",
    "        return predictions\n",
    "\n",
    "    def predict_proba(self, X):\n",
    "        predictions = np.zeros((X.shape[0], int(self.y_tr.max() + 1)))\n",
    "        best_indices = []\n",
    "        for j, row in enumerate(X):\n",
    "            D = self.X_tr - row\n",
    "            dist = (D**2).sum(axis=1)\n",
    "            best_indices = np.argsort(dist)[0:self.n_neighbors]\n",
    "\n",
    "            avg = self.y_tr[best_indices]\n",
    "            freq = np.zeros((int(self.y_tr.max()+1)))\n",
    "            for i in avg:\n",
    "                freq[int(i)] += 1\n",
    "            predictions[j] = freq/freq.sum()\n",
    "        return predictions\n",
    "\n",
    "    def score(self, X, y):\n",
    "        pred = self.predict(X)\n",
    "        correct = 0\n",
    "        for i in range(X.shape[0]):\n",
    "            if pred[i] == y[i]:\n",
    "                correct += 1\n",
    "        return correct/float(X.shape[0])\n"
   ]
  },
  {
   "cell_type": "markdown",
   "metadata": {},
   "source": [
    "**IRIS**"
   ]
  },
  {
   "cell_type": "code",
   "execution_count": null,
   "metadata": {},
   "outputs": [],
   "source": [
    "iris = datasets.load_iris()"
   ]
  },
  {
   "cell_type": "code",
   "execution_count": null,
   "metadata": {},
   "outputs": [],
   "source": [
    "X_train, X_test, y_train, y_test = train_test_split(iris.data, iris.target, test_size=0.1, stratify=iris.target)"
   ]
  },
  {
   "cell_type": "code",
   "execution_count": null,
   "metadata": {},
   "outputs": [],
   "source": [
    "clf = KNeighborsClassifier(n_neighbors=2)\n",
    "my_clf = MyKNeighborsClassifier(n_neighbors=2)"
   ]
  },
  {
   "cell_type": "code",
   "execution_count": null,
   "metadata": {},
   "outputs": [],
   "source": [
    "%time clf.fit(X_train, y_train)"
   ]
  },
  {
   "cell_type": "code",
   "execution_count": null,
   "metadata": {},
   "outputs": [],
   "source": [
    "%time my_clf.fit(X_train, y_train)"
   ]
  },
  {
   "cell_type": "code",
   "execution_count": null,
   "metadata": {},
   "outputs": [],
   "source": [
    "%time clf.predict(X_test)"
   ]
  },
  {
   "cell_type": "code",
   "execution_count": null,
   "metadata": {},
   "outputs": [],
   "source": [
    "%time my_clf.predict(X_test)"
   ]
  },
  {
   "cell_type": "code",
   "execution_count": null,
   "metadata": {},
   "outputs": [],
   "source": [
    "%time clf.predict_proba(X_test)"
   ]
  },
  {
   "cell_type": "code",
   "execution_count": null,
   "metadata": {},
   "outputs": [],
   "source": [
    "%time my_clf.predict_proba(X_test)"
   ]
  },
  {
   "cell_type": "code",
   "execution_count": null,
   "metadata": {},
   "outputs": [],
   "source": [
    "clf.score(X_test, y_test)"
   ]
  },
  {
   "cell_type": "code",
   "execution_count": null,
   "metadata": {},
   "outputs": [],
   "source": [
    "my_clf.score(X_test, y_test)"
   ]
  },
  {
   "cell_type": "code",
   "execution_count": null,
   "metadata": {},
   "outputs": [],
   "source": [
    "# Задание 3\n",
    "neighbors = range(1, 100)\n",
    "scr = []\n",
    "score_best = 0\n",
    "nbr_best = 0\n",
    "for k in neighbors:\n",
    "    knn = MyKNeighborsClassifier(k)\n",
    "    knn.fit(X_train, y_train)\n",
    "    s = knn.score(X_test, y_test)\n",
    "    if s >= score_best:\n",
    "        score_best = s\n",
    "        nbr_best = k\n",
    "    scr.append(s)\n",
    "print \"Best score \", score_best, \" при n_neighbors \", nbr_best\n",
    "plt.plot(neighbors, scr, color='green', label='score')\n"
   ]
  },
  {
   "cell_type": "markdown",
   "metadata": {},
   "source": [
    "**MNIST**"
   ]
  },
  {
   "cell_type": "code",
   "execution_count": null,
   "metadata": {},
   "outputs": [],
   "source": [
    "mnist = fetch_mldata('MNIST original')"
   ]
  },
  {
   "cell_type": "code",
   "execution_count": null,
   "metadata": {},
   "outputs": [],
   "source": [
    "X_train, X_test, y_train, y_test = train_test_split(mnist.data, mnist.target, test_size=0.1, stratify=mnist.target)"
   ]
  },
  {
   "cell_type": "code",
   "execution_count": null,
   "metadata": {},
   "outputs": [],
   "source": [
    "clf = KNeighborsClassifier(n_neighbors=2)\n",
    "my_clf = MyKNeighborsClassifier(n_neighbors=2)"
   ]
  },
  {
   "cell_type": "code",
   "execution_count": null,
   "metadata": {},
   "outputs": [],
   "source": [
    "%time clf.fit(X_train, y_train)"
   ]
  },
  {
   "cell_type": "code",
   "execution_count": null,
   "metadata": {},
   "outputs": [],
   "source": [
    "%time my_clf.fit(X_train, y_train)"
   ]
  },
  {
   "cell_type": "code",
   "execution_count": null,
   "metadata": {},
   "outputs": [],
   "source": [
    "%time clf.predict(X_test)"
   ]
  },
  {
   "cell_type": "code",
   "execution_count": null,
   "metadata": {
    "scrolled": true
   },
   "outputs": [],
   "source": [
    "%time my_clf.predict(X_test)"
   ]
  },
  {
   "cell_type": "code",
   "execution_count": null,
   "metadata": {},
   "outputs": [],
   "source": [
    "%time clf.predict_proba(X_test)"
   ]
  },
  {
   "cell_type": "code",
   "execution_count": null,
   "metadata": {},
   "outputs": [],
   "source": [
    "%time my_clf.predict_proba(X_test)"
   ]
  },
  {
   "cell_type": "code",
   "execution_count": null,
   "metadata": {},
   "outputs": [],
   "source": [
    "clf.score(X_test, y_test)"
   ]
  },
  {
   "cell_type": "code",
   "execution_count": null,
   "metadata": {},
   "outputs": [],
   "source": [
    "my_clf.score(X_test, y_test)"
   ]
  },
  {
   "cell_type": "markdown",
   "metadata": {},
   "source": [
    "Задание 5"
   ]
  },
  {
   "cell_type": "code",
   "execution_count": null,
   "metadata": {},
   "outputs": [],
   "source": [
    "# seaborn - библиотека для визуализации данных , основана на matplotlib. \n",
    "# Содержит более адекватные дефолтные настройки оформления графиков. \n",
    "# Также в библиотеке есть достаточно сложные типы визуализации, \n",
    "# которые в matplotlib потребовали бы большого количество кода.\n",
    "\n",
    "# matplotlib - также библиотека для визуализации данных\n",
    "\n",
    "# train_test_split - разделение массивов или матриц на случайные train и test подмножества \n",
    "\n",
    "# Pipeline (from sklearn.pipeline import Pipeline) - метод преобразований с конечной оценкой\n",
    "# Цель - собрать несколько шагов вместе\n",
    "\n",
    "# StandardScaler (from sklearn.preprocessing import StandardScaler) - метод стандартизации объектов\n",
    "# путем удаления среднего значения и масштабирования до дисперсии единиц измерения\n",
    "\n",
    "# ClassifierMixin - класс для всех классификаторов из пакета scikit-learn\n",
    "\n",
    "# NeighborsBase - базовый класс для оценок ближайших соседей ( обучение \"без учителя\" )\n",
    "\n",
    "# KNeighborsMixin - класс поиска k соседей\n",
    "\n",
    "# SupervisedIntegerMixin - класс для модели обучения \"с учителем\""
   ]
  }
 ],
 "metadata": {
  "kernelspec": {
   "display_name": "Python 2",
   "language": "python",
   "name": "python2"
  },
  "language_info": {
   "codemirror_mode": {
    "name": "ipython",
    "version": 2
   },
   "file_extension": ".py",
   "mimetype": "text/x-python",
   "name": "python",
   "nbconvert_exporter": "python",
   "pygments_lexer": "ipython2",
   "version": "2.7.14"
  }
 },
 "nbformat": 4,
 "nbformat_minor": 2
}
